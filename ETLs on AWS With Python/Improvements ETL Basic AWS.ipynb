{
 "cells": [
  {
   "cell_type": "code",
   "execution_count": 41,
   "id": "9ac29880",
   "metadata": {},
   "outputs": [],
   "source": [
    "import boto3\n",
    "import pandas as pd\n",
    "from io import StringIO, BytesIO\n",
    "from datetime import datetime, timedelta"
   ]
  },
  {
   "cell_type": "code",
   "execution_count": 42,
   "id": "68bf62c4",
   "metadata": {},
   "outputs": [],
   "source": [
    "arg_date = '2021-05-09'\n",
    "src_format = '%Y-%m-%d'\n",
    "src_bucket = 'deutsche-boerse-xetra-pds'\n",
    "trg_bucket = 'xetra-1234'\n",
    "columns = ['ISIN', 'Date', 'Time', 'StartPrice', 'MaxPrice', 'MinPrice', 'EndPrice', 'TradedVolume']\n",
    "key = 'xetra_daily_report_' + datetime.today().strftime(\"%Y%m%d_%H%M%S\") + '.parquet'"
   ]
  },
  {
   "cell_type": "code",
   "execution_count": 43,
   "id": "ab247f4a",
   "metadata": {},
   "outputs": [],
   "source": [
    "arg_date_dt = datetime.strptime(arg_date, src_format).date() - timedelta(days=1)"
   ]
  },
  {
   "cell_type": "code",
   "execution_count": 44,
   "id": "5f4c044a",
   "metadata": {},
   "outputs": [],
   "source": [
    "s3 = boto3.resource('s3')\n",
    "bucket = s3.Bucket(src_bucket)\n",
    "objects = [obj for obj in bucket.objects.all() if datetime.strptime(obj.key.split('/')[0], src_format).date() >= arg_date_dt]"
   ]
  },
  {
   "cell_type": "code",
   "execution_count": 45,
   "id": "df445316",
   "metadata": {},
   "outputs": [],
   "source": [
    "def csv_to_df(filename):\n",
    "    csv_obj = bucket.Object(key=filename).get().get('Body').read().decode('utf-8')\n",
    "    data = StringIO(csv_obj)\n",
    "    df = pd.read_csv(data, delimiter=',')\n",
    "    return df\n",
    "df_all = pd.concat([csv_to_df(obj.key) for obj in objects], ignore_index=True)"
   ]
  },
  {
   "cell_type": "code",
   "execution_count": 46,
   "id": "6d054a7a",
   "metadata": {},
   "outputs": [],
   "source": [
    "df_all = df_all.loc[:, columns]"
   ]
  },
  {
   "cell_type": "code",
   "execution_count": 47,
   "id": "b3ad4181",
   "metadata": {},
   "outputs": [],
   "source": [
    "df_all.dropna(inplace=True)"
   ]
  },
  {
   "cell_type": "markdown",
   "id": "9918516c",
   "metadata": {},
   "source": [
    "## Get opening price per ISIN and day"
   ]
  },
  {
   "cell_type": "code",
   "execution_count": 48,
   "id": "8d20a192",
   "metadata": {},
   "outputs": [],
   "source": [
    "df_all['opening_price'] = df_all.sort_values(by=['Time']).groupby(['ISIN', 'Date'])['StartPrice'].transform('first')"
   ]
  },
  {
   "cell_type": "markdown",
   "id": "20f6f2b6",
   "metadata": {},
   "source": [
    "## Get closing price per ISIN and day"
   ]
  },
  {
   "cell_type": "code",
   "execution_count": 49,
   "id": "90bbfeac",
   "metadata": {},
   "outputs": [],
   "source": [
    "df_all['closing_price'] = df_all.sort_values(by=['Time']).groupby(['ISIN', 'Date'])['StartPrice'].transform('last')"
   ]
  },
  {
   "cell_type": "markdown",
   "id": "020dab61",
   "metadata": {},
   "source": [
    "## Aggregations"
   ]
  },
  {
   "cell_type": "code",
   "execution_count": 50,
   "id": "4dd73163",
   "metadata": {},
   "outputs": [],
   "source": [
    "df_all = df_all.groupby(['ISIN', 'Date'], as_index=False).agg(opening_price_eur=('opening_price', 'min'), closing_price_eur=('closing_price', 'min'), minimum_price_eur=('MinPrice', 'min'), maximum_price_eur=('MaxPrice', 'max'), daily_traded_volume=('TradedVolume', 'sum'))"
   ]
  },
  {
   "cell_type": "markdown",
   "id": "a92a5928",
   "metadata": {},
   "source": [
    "## Percent Change Prev Closing"
   ]
  },
  {
   "cell_type": "code",
   "execution_count": 51,
   "id": "e97de63a",
   "metadata": {},
   "outputs": [],
   "source": [
    "df_all['prev_closing_price'] = df_all.sort_values(by=['Date']).groupby(['ISIN'])['closing_price_eur'].shift(1)"
   ]
  },
  {
   "cell_type": "code",
   "execution_count": 52,
   "id": "1b113a90",
   "metadata": {},
   "outputs": [],
   "source": [
    "df_all['change_prev_closing_%'] = (df_all['closing_price_eur'] - df_all['prev_closing_price']) / df_all['prev_closing_price'] * 100"
   ]
  },
  {
   "cell_type": "code",
   "execution_count": 53,
   "id": "8663c18a",
   "metadata": {},
   "outputs": [],
   "source": [
    "df_all.drop(columns=['prev_closing_price'], inplace=True)"
   ]
  },
  {
   "cell_type": "code",
   "execution_count": 54,
   "id": "de84b712",
   "metadata": {},
   "outputs": [],
   "source": [
    "df_all = df_all.round(decimals=2)"
   ]
  },
  {
   "cell_type": "code",
   "execution_count": 55,
   "id": "1d106ae5",
   "metadata": {},
   "outputs": [],
   "source": [
    "df_all = df_all[df_all.Date >= arg_date]"
   ]
  },
  {
   "cell_type": "markdown",
   "id": "a676f549",
   "metadata": {},
   "source": [
    "## Write to S3"
   ]
  },
  {
   "cell_type": "code",
   "execution_count": 56,
   "id": "18b42a57",
   "metadata": {},
   "outputs": [
    {
     "data": {
      "text/plain": [
       "s3.Object(bucket_name='xetra-1234', key='xetra_daily_report_20210510_143346.parquet')"
      ]
     },
     "execution_count": 56,
     "metadata": {},
     "output_type": "execute_result"
    }
   ],
   "source": [
    "out_buffer = BytesIO()\n",
    "df_all.to_parquet(out_buffer, index=False)\n",
    "bucket_target = s3.Bucket(trg_bucket)\n",
    "bucket_target.put_object(Body=out_buffer.getvalue(), Key=key)"
   ]
  },
  {
   "cell_type": "markdown",
   "id": "3c2fe394",
   "metadata": {},
   "source": [
    "## Reading the uploaded file"
   ]
  },
  {
   "cell_type": "code",
   "execution_count": 57,
   "id": "9682c753",
   "metadata": {},
   "outputs": [
    {
     "name": "stdout",
     "output_type": "stream",
     "text": [
      "xetra_daily_report_20210510_101629.parquet\n",
      "xetra_daily_report_20210510_143346.parquet\n"
     ]
    }
   ],
   "source": [
    "for obj in bucket_target.objects.all():\n",
    "    print(obj.key)"
   ]
  },
  {
   "cell_type": "code",
   "execution_count": 60,
   "id": "9ac0c5de",
   "metadata": {},
   "outputs": [],
   "source": [
    "prq_obj = bucket_target.Object(key='xetra_daily_report_20210510_143346.parquet').get().get('Body').read()\n",
    "data = BytesIO(prq_obj)\n",
    "df_report = pd.read_parquet(data)"
   ]
  },
  {
   "cell_type": "code",
   "execution_count": 61,
   "id": "2c007b4b",
   "metadata": {},
   "outputs": [
    {
     "data": {
      "text/html": [
       "<div>\n",
       "<style scoped>\n",
       "    .dataframe tbody tr th:only-of-type {\n",
       "        vertical-align: middle;\n",
       "    }\n",
       "\n",
       "    .dataframe tbody tr th {\n",
       "        vertical-align: top;\n",
       "    }\n",
       "\n",
       "    .dataframe thead th {\n",
       "        text-align: right;\n",
       "    }\n",
       "</style>\n",
       "<table border=\"1\" class=\"dataframe\">\n",
       "  <thead>\n",
       "    <tr style=\"text-align: right;\">\n",
       "      <th></th>\n",
       "      <th>ISIN</th>\n",
       "      <th>Date</th>\n",
       "      <th>opening_price_eur</th>\n",
       "      <th>closing_price_eur</th>\n",
       "      <th>minimum_price_eur</th>\n",
       "      <th>maximum_price_eur</th>\n",
       "      <th>daily_traded_volume</th>\n",
       "      <th>change_prev_closing_%</th>\n",
       "    </tr>\n",
       "  </thead>\n",
       "  <tbody>\n",
       "    <tr>\n",
       "      <th>0</th>\n",
       "      <td>AT00000FACC2</td>\n",
       "      <td>2021-05-10</td>\n",
       "      <td>9.10</td>\n",
       "      <td>8.94</td>\n",
       "      <td>8.94</td>\n",
       "      <td>9.10</td>\n",
       "      <td>78</td>\n",
       "      <td>NaN</td>\n",
       "    </tr>\n",
       "    <tr>\n",
       "      <th>1</th>\n",
       "      <td>AT0000606306</td>\n",
       "      <td>2021-05-10</td>\n",
       "      <td>18.75</td>\n",
       "      <td>18.98</td>\n",
       "      <td>18.68</td>\n",
       "      <td>19.01</td>\n",
       "      <td>2104</td>\n",
       "      <td>NaN</td>\n",
       "    </tr>\n",
       "    <tr>\n",
       "      <th>2</th>\n",
       "      <td>AT0000609607</td>\n",
       "      <td>2021-05-10</td>\n",
       "      <td>16.48</td>\n",
       "      <td>16.98</td>\n",
       "      <td>16.48</td>\n",
       "      <td>16.98</td>\n",
       "      <td>131</td>\n",
       "      <td>NaN</td>\n",
       "    </tr>\n",
       "    <tr>\n",
       "      <th>3</th>\n",
       "      <td>AT0000644505</td>\n",
       "      <td>2021-05-10</td>\n",
       "      <td>112.20</td>\n",
       "      <td>112.80</td>\n",
       "      <td>112.20</td>\n",
       "      <td>113.20</td>\n",
       "      <td>69</td>\n",
       "      <td>NaN</td>\n",
       "    </tr>\n",
       "    <tr>\n",
       "      <th>4</th>\n",
       "      <td>AT0000720008</td>\n",
       "      <td>2021-05-10</td>\n",
       "      <td>7.04</td>\n",
       "      <td>7.06</td>\n",
       "      <td>6.99</td>\n",
       "      <td>7.09</td>\n",
       "      <td>2877</td>\n",
       "      <td>NaN</td>\n",
       "    </tr>\n",
       "    <tr>\n",
       "      <th>...</th>\n",
       "      <td>...</td>\n",
       "      <td>...</td>\n",
       "      <td>...</td>\n",
       "      <td>...</td>\n",
       "      <td>...</td>\n",
       "      <td>...</td>\n",
       "      <td>...</td>\n",
       "      <td>...</td>\n",
       "    </tr>\n",
       "    <tr>\n",
       "      <th>2681</th>\n",
       "      <td>XS2265368097</td>\n",
       "      <td>2021-05-10</td>\n",
       "      <td>15.10</td>\n",
       "      <td>15.14</td>\n",
       "      <td>15.10</td>\n",
       "      <td>15.14</td>\n",
       "      <td>0</td>\n",
       "      <td>NaN</td>\n",
       "    </tr>\n",
       "    <tr>\n",
       "      <th>2682</th>\n",
       "      <td>XS2265369574</td>\n",
       "      <td>2021-05-10</td>\n",
       "      <td>22.88</td>\n",
       "      <td>22.86</td>\n",
       "      <td>22.86</td>\n",
       "      <td>22.88</td>\n",
       "      <td>0</td>\n",
       "      <td>NaN</td>\n",
       "    </tr>\n",
       "    <tr>\n",
       "      <th>2683</th>\n",
       "      <td>XS2265369731</td>\n",
       "      <td>2021-05-10</td>\n",
       "      <td>10.40</td>\n",
       "      <td>10.50</td>\n",
       "      <td>10.40</td>\n",
       "      <td>10.50</td>\n",
       "      <td>0</td>\n",
       "      <td>NaN</td>\n",
       "    </tr>\n",
       "    <tr>\n",
       "      <th>2684</th>\n",
       "      <td>XS2265370234</td>\n",
       "      <td>2021-05-10</td>\n",
       "      <td>24.23</td>\n",
       "      <td>24.58</td>\n",
       "      <td>24.23</td>\n",
       "      <td>24.58</td>\n",
       "      <td>300</td>\n",
       "      <td>NaN</td>\n",
       "    </tr>\n",
       "    <tr>\n",
       "      <th>2685</th>\n",
       "      <td>XS2284324667</td>\n",
       "      <td>2021-05-10</td>\n",
       "      <td>26.87</td>\n",
       "      <td>26.85</td>\n",
       "      <td>26.77</td>\n",
       "      <td>26.87</td>\n",
       "      <td>2900</td>\n",
       "      <td>NaN</td>\n",
       "    </tr>\n",
       "  </tbody>\n",
       "</table>\n",
       "<p>2686 rows × 8 columns</p>\n",
       "</div>"
      ],
      "text/plain": [
       "              ISIN        Date  opening_price_eur  closing_price_eur  \\\n",
       "0     AT00000FACC2  2021-05-10               9.10               8.94   \n",
       "1     AT0000606306  2021-05-10              18.75              18.98   \n",
       "2     AT0000609607  2021-05-10              16.48              16.98   \n",
       "3     AT0000644505  2021-05-10             112.20             112.80   \n",
       "4     AT0000720008  2021-05-10               7.04               7.06   \n",
       "...            ...         ...                ...                ...   \n",
       "2681  XS2265368097  2021-05-10              15.10              15.14   \n",
       "2682  XS2265369574  2021-05-10              22.88              22.86   \n",
       "2683  XS2265369731  2021-05-10              10.40              10.50   \n",
       "2684  XS2265370234  2021-05-10              24.23              24.58   \n",
       "2685  XS2284324667  2021-05-10              26.87              26.85   \n",
       "\n",
       "      minimum_price_eur  maximum_price_eur  daily_traded_volume  \\\n",
       "0                  8.94               9.10                   78   \n",
       "1                 18.68              19.01                 2104   \n",
       "2                 16.48              16.98                  131   \n",
       "3                112.20             113.20                   69   \n",
       "4                  6.99               7.09                 2877   \n",
       "...                 ...                ...                  ...   \n",
       "2681              15.10              15.14                    0   \n",
       "2682              22.86              22.88                    0   \n",
       "2683              10.40              10.50                    0   \n",
       "2684              24.23              24.58                  300   \n",
       "2685              26.77              26.87                 2900   \n",
       "\n",
       "      change_prev_closing_%  \n",
       "0                       NaN  \n",
       "1                       NaN  \n",
       "2                       NaN  \n",
       "3                       NaN  \n",
       "4                       NaN  \n",
       "...                     ...  \n",
       "2681                    NaN  \n",
       "2682                    NaN  \n",
       "2683                    NaN  \n",
       "2684                    NaN  \n",
       "2685                    NaN  \n",
       "\n",
       "[2686 rows x 8 columns]"
      ]
     },
     "execution_count": 61,
     "metadata": {},
     "output_type": "execute_result"
    }
   ],
   "source": [
    "df_report"
   ]
  },
  {
   "cell_type": "code",
   "execution_count": null,
   "id": "7670c187",
   "metadata": {},
   "outputs": [],
   "source": []
  }
 ],
 "metadata": {
  "kernelspec": {
   "display_name": "Python 3",
   "language": "python",
   "name": "python3"
  },
  "language_info": {
   "codemirror_mode": {
    "name": "ipython",
    "version": 3
   },
   "file_extension": ".py",
   "mimetype": "text/x-python",
   "name": "python",
   "nbconvert_exporter": "python",
   "pygments_lexer": "ipython3",
   "version": "3.9.4"
  }
 },
 "nbformat": 4,
 "nbformat_minor": 5
}
